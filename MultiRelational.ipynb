{
  "nbformat": 4,
  "nbformat_minor": 0,
  "metadata": {
    "colab": {
      "provenance": []
    },
    "kernelspec": {
      "name": "python3",
      "display_name": "Python 3"
    },
    "language_info": {
      "name": "python"
    }
  },
  "cells": [
    {
      "cell_type": "code",
      "execution_count": null,
      "metadata": {
        "id": "lK2LpMph65N0"
      },
      "outputs": [],
      "source": [
        "import pandas as pd"
      ]
    },
    {
      "cell_type": "code",
      "source": [
        "users = pd.read_csv('/content/users_table.csv')\n",
        "friends = pd.read_csv('/content/friends_table.csv')\n",
        "# Join as needed\n",
        "df = users.merge(friends, on='user_id', how='left')\n",
        "\n",
        "# If you need to merge other data, do it here...\n",
        "\n",
        "df = users  # Use this as your main DataFrame with new columns\n",
        "\n",
        "print(df.columns)  # Confirm columns are there"
      ],
      "metadata": {
        "colab": {
          "base_uri": "https://localhost:8080/"
        },
        "id": "7DXd93gw7adb",
        "outputId": "9e10882e-d317-4507-f4db-3839765cd005"
      },
      "execution_count": null,
      "outputs": [
        {
          "output_type": "stream",
          "name": "stdout",
          "text": [
            "Index(['user_id', 'user_name', 'age', 'num_friends', 'has_photo'], dtype='object')\n"
          ]
        }
      ]
    },
    {
      "cell_type": "code",
      "source": [
        "from sklearn.model_selection import train_test_split\n",
        "from sklearn.linear_model import LogisticRegression\n",
        "from sklearn.ensemble import RandomForestClassifier\n",
        "from sklearn.metrics import accuracy_score, roc_auc_score, confusion_matrix"
      ],
      "metadata": {
        "id": "Bl1s2RBY9DZN"
      },
      "execution_count": null,
      "outputs": []
    },
    {
      "cell_type": "code",
      "source": [
        "df['converted'] = (df['num_friends'] > 1).astype(int)\n",
        "y = df['converted']\n",
        "\n",
        "\n",
        "# Define features and target\n",
        "X = df[['age', 'num_friends', 'has_photo']]\n",
        "y = df['converted']  # example binary outcome\n",
        "\n",
        "X_train, X_test, y_train, y_test = train_test_split(\n",
        "    X, y, test_size=0.3, random_state=42)"
      ],
      "metadata": {
        "id": "V7RBzp6cCa9P"
      },
      "execution_count": null,
      "outputs": []
    },
    {
      "cell_type": "code",
      "source": [
        "# Train models\n",
        "lr = LogisticRegression(max_iter=500).fit(X_train, y_train)\n",
        "rf = RandomForestClassifier(n_estimators=100, random_state=42).fit(X_train, y_train)\n",
        "\n",
        "for name, model in [('Logistic Regression', lr), ('Random Forest', rf)]:\n",
        "    preds = model.predict(X_test)\n",
        "    print(f\"{name}: Accuracy={accuracy_score(y_test, preds):.3f}, ROC-AUC={roc_auc_score(y_test, model.predict_proba(X_test)[:,1]):.3f}\")\n",
        "    print(\"Confusion Matrix:\\n\", confusion_matrix(y_test, preds))"
      ],
      "metadata": {
        "id": "DVxi3ymWCb15",
        "colab": {
          "base_uri": "https://localhost:8080/"
        },
        "collapsed": true,
        "outputId": "86c97e0b-9414-41aa-8665-4f498e740437"
      },
      "execution_count": null,
      "outputs": [
        {
          "output_type": "stream",
          "name": "stdout",
          "text": [
            "Logistic Regression: Accuracy=0.667, ROC-AUC=0.000\n",
            "Confusion Matrix:\n",
            " [[2 0]\n",
            " [1 0]]\n",
            "Random Forest: Accuracy=0.667, ROC-AUC=1.000\n",
            "Confusion Matrix:\n",
            " [[2 0]\n",
            " [1 0]]\n"
          ]
        }
      ]
    },
    {
      "cell_type": "code",
      "metadata": {
        "colab": {
          "base_uri": "https://localhost:8080/"
        },
        "id": "ef31ec90",
        "outputId": "c749294e-98ca-4dc5-f1df-d2c9bf70e21c"
      },
      "source": [
        "print(\"Columns in users DataFrame:\", users.columns)\n",
        "print(\"Columns in friends DataFrame:\", friends.columns)"
      ],
      "execution_count": null,
      "outputs": [
        {
          "output_type": "stream",
          "name": "stdout",
          "text": [
            "Columns in users DataFrame: Index(['user_id', 'user_name', 'age', 'num_friends', 'has_photo', 'converted'], dtype='object')\n",
            "Columns in friends DataFrame: Index(['user_id', 'friend_id', 'friend_name'], dtype='object')\n"
          ]
        }
      ]
    }
  ]
}